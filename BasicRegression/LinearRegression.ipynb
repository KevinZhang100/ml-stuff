{
 "cells": [
  {
   "cell_type": "code",
   "execution_count": 55,
   "id": "36f11267-49ac-4ed0-a8bd-1d3eefc4791d",
   "metadata": {},
   "outputs": [],
   "source": [
    "import pandas as pd\n",
    "import numpy as np\n",
    "from scipy.stats import f\n",
    "from sklearn.model_selection import train_test_split\n",
    "from sklearn.linear_model import LinearRegression\n",
    "from sklearn.metrics import mean_squared_error, r2_score\n",
    "from sklearn.datasets import fetch_california_housing\n",
    "\n",
    "cali = fetch_california_housing()\n",
    "data, labels, colNames = cali.data, cali.target, cali.feature_names\n",
    "\n",
    "xtrain, xtest, ytrain, ytest = train_test_split(data, labels, test_size=0.2, random_state=42)"
   ]
  },
  {
   "cell_type": "code",
   "execution_count": 58,
   "id": "6fbd329d-82f9-4e18-9199-d2b8fed7d361",
   "metadata": {},
   "outputs": [
    {
     "name": "stdout",
     "output_type": "stream",
     "text": [
      "R^2: 0.5757877060324283\n",
      "MSE: 0.5558915986952738\n",
      "F: 798.8740484717734\n",
      "P value: 1.1102230246251565e-16\n",
      "\n",
      "Coefficients: [-3.70232777e+01  4.48674910e-01  9.72425752e-03 -1.23323343e-01\n",
      "  7.83144907e-01 -2.02962058e-06 -3.52631849e-03 -4.19792487e-01]\n",
      "Intercept: -0.4337080649668997\n"
     ]
    }
   ],
   "source": [
    "X = np.hstack((np.ones((xtrain.shape[0], 1)), xtrain))\n",
    "leastSquares = np.linalg.solve(np.dot(X.T, X), np.dot(X.T, ytrain))\n",
    "X = np.hstack((np.ones((xtest.shape[0], 1)), xtest))\n",
    "pred = np.dot(X, leastSquares)\n",
    "\n",
    "# R^2 = 1 - sse/sst\n",
    "# quanitifies proportion of unexplained variance\n",
    "# keep in note, sse + ssr != sst for nonlinear models, so r^2 won't work\n",
    "sse = np.sum((ytest - pred) ** 2)\n",
    "sst = np.sum((ytest - np.mean(ytest)) ** 2)\n",
    "r2 = 1 - sse / sst\n",
    "\n",
    "n = xtest.shape[0]\n",
    "k = xtest.shape[1]\n",
    "# mse = sse / (n - k)\n",
    "mse = sse / n\n",
    "\n",
    "# F test statistic = (ssg / (k-1)) / (sse / (n - k))\n",
    "# test for overall significance of model (at least one regression coefficient is not equal to zero)\n",
    "F = ((sst - sse) / (k - 1)) / (sse / (n - k))\n",
    "p = 1 - f.cdf(F, k-1, n-k)\n",
    "\n",
    "# residual analysis\n",
    "# we want them to be normally distributed, constant variance, have mean close to 0\n",
    "\n",
    "print(\"R^2:\", r2)\n",
    "print(\"MSE:\", mse)\n",
    "print(\"F:\", F)\n",
    "print(\"P value:\", p)\n",
    "\n",
    "print(\"\\nCoefficients:\", leastSquares[:-1])\n",
    "print(\"Intercept:\", leastSquares[-1])"
   ]
  },
  {
   "cell_type": "code",
   "execution_count": 59,
   "id": "69a141de-4dfa-47ff-acbb-3038e496fb12",
   "metadata": {},
   "outputs": [
    {
     "name": "stdout",
     "output_type": "stream",
     "text": [
      "R^2: 0.5757877060324526\n",
      "MSE: 0.555891598695242\n",
      "\n",
      "Coefficients: [ 4.48674910e-01  9.72425752e-03 -1.23323343e-01  7.83144907e-01\n",
      " -2.02962058e-06 -3.52631849e-03 -4.19792487e-01 -4.33708065e-01]\n",
      "Intercept: -37.023277706063986\n"
     ]
    }
   ],
   "source": [
    "#compare with sci-kit learn linear regression\n",
    "model = LinearRegression(fit_intercept=True)\n",
    "model.fit(xtrain, ytrain)\n",
    "pred = model.predict(xtest)\n",
    "\n",
    "mse = mean_squared_error(ytest, pred)\n",
    "r2 = r2_score(ytest, pred)\n",
    "\n",
    "print(\"R^2:\", r2)\n",
    "print(\"MSE:\", mse)\n",
    "\n",
    "print(\"\\nCoefficients:\", model.coef_)\n",
    "print(\"Intercept:\", model.intercept_)"
   ]
  },
  {
   "cell_type": "code",
   "execution_count": null,
   "id": "5f5d0996-50ac-4fdf-be58-1ddb5ee3cf6d",
   "metadata": {},
   "outputs": [],
   "source": []
  }
 ],
 "metadata": {
  "kernelspec": {
   "display_name": "Python 3 (ipykernel)",
   "language": "python",
   "name": "python3"
  },
  "language_info": {
   "codemirror_mode": {
    "name": "ipython",
    "version": 3
   },
   "file_extension": ".py",
   "mimetype": "text/x-python",
   "name": "python",
   "nbconvert_exporter": "python",
   "pygments_lexer": "ipython3",
   "version": "3.11.4"
  }
 },
 "nbformat": 4,
 "nbformat_minor": 5
}
