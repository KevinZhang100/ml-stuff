{
 "cells": [
  {
   "cell_type": "code",
   "execution_count": 7,
   "id": "36f11267-49ac-4ed0-a8bd-1d3eefc4791d",
   "metadata": {},
   "outputs": [],
   "source": [
    "import pandas as pd\n",
    "import numpy as np\n",
    "from sklearn.metrics import accuracy_score\n",
    "from sklearn.linear_model import LogisticRegression\n",
    "from sklearn.model_selection import train_test_split\n",
    "\n",
    "appleData = pd.read_csv('apple_quality.csv') #predict if apple has good or bad quality\n",
    "appleData = appleData.iloc[:1000] \n",
    "data = appleData.iloc[:, 1:appleData.shape[1]-1]\n",
    "labels = appleData['Quality'].replace({'good': 1, 'bad': 0}) #encode labels\n",
    "\n",
    "xtrain, xtest, ytrain, ytest = train_test_split(data, labels, test_size=0.2, random_state=42)"
   ]
  },
  {
   "cell_type": "code",
   "execution_count": 16,
   "id": "6fbd329d-82f9-4e18-9199-d2b8fed7d361",
   "metadata": {},
   "outputs": [
    {
     "name": "stdout",
     "output_type": "stream",
     "text": [
      "accuracy:  0.735\n"
     ]
    }
   ],
   "source": [
    "def predict(X, weights):\n",
    "    pred = np.dot(X, weights)\n",
    "    return 1.0 / (1.0 + np.exp(-pred))\n",
    "    \n",
    "def logisticRegression(X, y, learningRate, iterations):\n",
    "    weights = np.zeros(X.shape[1])\n",
    "\n",
    "    for _ in range(iterations):\n",
    "        pred = predict(X, weights)\n",
    "        error = y - pred\n",
    "        grad = np.dot(X.T, error)\n",
    "        weights += learningRate * grad #gradient ascent\n",
    "\n",
    "    return weights\n",
    "\n",
    "X = np.hstack((np.ones((xtrain.shape[0], 1)), xtrain))\n",
    "weights = logisticRegression(X, ytrain, 1e-5, 100)\n",
    "\n",
    "X = np.hstack((np.ones((xtest.shape[0], 1)), xtest))\n",
    "pred = predict(X, weights)\n",
    "pred[pred < 0.5] = 0\n",
    "pred[pred >= 0.5] = 1\n",
    "\n",
    "acc = accuracy_score(pred, ytest)\n",
    "print(\"accuracy: \", acc)"
   ]
  },
  {
   "cell_type": "code",
   "execution_count": 17,
   "id": "69a141de-4dfa-47ff-acbb-3038e496fb12",
   "metadata": {},
   "outputs": [
    {
     "name": "stdout",
     "output_type": "stream",
     "text": [
      "accuracy:  0.745\n"
     ]
    }
   ],
   "source": [
    "#compare with sci-kit learn linear regression\n",
    "model = LogisticRegression(penalty='l2')\n",
    "model.fit(xtrain, ytrain)\n",
    "pred = model.predict(xtest)\n",
    "acc = accuracy_score(pred, ytest)\n",
    "print(\"accuracy: \", acc)"
   ]
  }
 ],
 "metadata": {
  "kernelspec": {
   "display_name": "Python 3 (ipykernel)",
   "language": "python",
   "name": "python3"
  },
  "language_info": {
   "codemirror_mode": {
    "name": "ipython",
    "version": 3
   },
   "file_extension": ".py",
   "mimetype": "text/x-python",
   "name": "python",
   "nbconvert_exporter": "python",
   "pygments_lexer": "ipython3",
   "version": "3.11.4"
  }
 },
 "nbformat": 4,
 "nbformat_minor": 5
}
