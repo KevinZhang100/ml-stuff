{
 "cells": [
  {
   "cell_type": "code",
   "execution_count": 1,
   "id": "eefa7771-6f65-48fe-b68a-fa17217c9456",
   "metadata": {},
   "outputs": [],
   "source": [
    "import pandas as pd\n",
    "from math import log2\n",
    "from sklearn.tree import DecisionTreeClassifier\n",
    "from sklearn.model_selection import train_test_split\n",
    "\n",
    "def accuracy(pred, labels) -> float:\n",
    "    correct, total = 0, len(pred)\n",
    "    for i in range(len(pred)):\n",
    "        if labels.iloc[i] == pred[i]:\n",
    "            correct += 1\n",
    "    return correct/total\n",
    "\n",
    "appleData = pd.read_csv('apple_quality.csv')\n",
    "data = appleData.iloc[:, 1:appleData.shape[1]-1]\n",
    "labels = appleData['Quality'].replace({'good': 1, 'bad':0})\n",
    "\n",
    "xtrain, xtest, ytrain, ytest = train_test_split(data, labels, test_size=0.2, random_state=42)"
   ]
  },
  {
   "cell_type": "code",
   "execution_count": 13,
   "id": "cabc5ce7-599d-42ab-bf60-d503e067eb59",
   "metadata": {},
   "outputs": [],
   "source": [
    "def entropy(labels: pd.DataFrame) -> float:\n",
    "    p1, p0 = 0, 0\n",
    "\n",
    "    for val in labels.values:\n",
    "        if val == 0:\n",
    "            p0 += 1\n",
    "        else:\n",
    "            p1 += 1\n",
    "    \n",
    "    p1 /= labels.shape[0]\n",
    "    p0 /= labels.shape[0]\n",
    "    \n",
    "    if p1 == 0 or p0 == 0:\n",
    "        return 0\n",
    "    return -p1 * log2(p1) - p0 * log2(p0)\n",
    "\n",
    "\n",
    "def infoGain(data: pd.DataFrame, labels: pd.DataFrame, col: str, split: float) -> float:\n",
    "    left = labels[data[col] <= split]\n",
    "    right = labels[data[col] > split]\n",
    "    pl, pr = len(left) / len(labels), len(right) / len(labels)\n",
    "    \n",
    "    return entropy(labels) - pl * entropy(left) - pr * entropy(right)\n",
    "    \n",
    "def bestSplit(data: pd.DataFrame, labels: pd.DataFrame) -> (str, float):\n",
    "    colName, splitVal, maxInfoGain = '', 0, -1\n",
    "    \n",
    "    for col in data.columns:\n",
    "        uniqueVals = data[col].unique()\n",
    "        uniqueVals.sort()\n",
    "\n",
    "        for i in range(len(uniqueVals) - 1):\n",
    "            split = (uniqueVals[i] + uniqueVals[i+1]) / 2\n",
    "            gain = infoGain(data, labels, col, split)\n",
    "\n",
    "            if gain > maxInfoGain:\n",
    "                maxInfoGain = gain\n",
    "                colName = col\n",
    "                splitVal = split\n",
    "            \n",
    "    return (colName, splitVal)\n",
    "\n",
    "def buildTree(data: pd.DataFrame, labels: pd.DataFrame, criterion: str, min_split: int):\n",
    "    \n",
    "    "
   ]
  },
  {
   "cell_type": "code",
   "execution_count": 11,
   "id": "19339e1b-db95-4565-8e34-801daacc961e",
   "metadata": {},
   "outputs": [
    {
     "name": "stdout",
     "output_type": "stream",
     "text": [
      "0.8225\n"
     ]
    }
   ],
   "source": [
    "libraryTree = DecisionTreeClassifier(criterion=\"entropy\",min_samples_split=2)\n",
    "libraryTree.fit(xtrain, ytrain)\n",
    "pred = libraryTree.predict(xtest)\n",
    "acc = accuracy(pred, ytest)\n",
    "print(acc)"
   ]
  },
  {
   "cell_type": "code",
   "execution_count": null,
   "id": "f1490fe1-0f37-4efb-9dfd-58ae654b1dfb",
   "metadata": {},
   "outputs": [],
   "source": []
  }
 ],
 "metadata": {
  "kernelspec": {
   "display_name": "Python 3 (ipykernel)",
   "language": "python",
   "name": "python3"
  },
  "language_info": {
   "codemirror_mode": {
    "name": "ipython",
    "version": 3
   },
   "file_extension": ".py",
   "mimetype": "text/x-python",
   "name": "python",
   "nbconvert_exporter": "python",
   "pygments_lexer": "ipython3",
   "version": "3.11.4"
  }
 },
 "nbformat": 4,
 "nbformat_minor": 5
}
