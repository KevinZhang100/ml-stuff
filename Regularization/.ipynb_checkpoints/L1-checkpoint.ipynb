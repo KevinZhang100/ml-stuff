{
 "cells": [
  {
   "cell_type": "code",
   "execution_count": 1,
   "id": "feeab2e4-cf08-4256-9901-0111f5cac64c",
   "metadata": {},
   "outputs": [],
   "source": [
    "import pandas as pd\n",
    "import numpy as np\n",
    "from sklearn.model_selection import train_test_split\n",
    "from sklearn.linear_model import Lasso\n",
    "from sklearn.metrics import mean_squared_error\n",
    "from sklearn.datasets import fetch_california_housing\n",
    "\n",
    "cali = fetch_california_housing()\n",
    "data, labels, colNames = cali.data, cali.target, cali.feature_names\n",
    "\n",
    "xtrain, xtest, ytrain, ytest = train_test_split(data, labels, test_size=0.2, random_state=42)"
   ]
  },
  {
   "cell_type": "code",
   "execution_count": 2,
   "id": "8fefa5b1-40d3-4920-8c31-df4b12a73b28",
   "metadata": {},
   "outputs": [
    {
     "name": "stdout",
     "output_type": "stream",
     "text": [
      "mse: 5.629742323103131\n",
      "mse: 1.4525910254790166\n",
      "mse: 1.3334169106816125\n",
      "mse: 1.3233783364358205\n",
      "mse: 1.3214369202608762\n",
      "coefficients: 0.0020, 0.0049, 0.0011, 0.0001, -0.0000, -0.0001, 0.0040, -0.0149\n",
      "test mse: 1.293682819465437\n"
     ]
    }
   ],
   "source": [
    "def predict(data, weights, bias):\n",
    "    return np.dot(data, weights) + bias\n",
    "\n",
    "def lassoRegression(data, labels, learningRate, penalty, iterations):\n",
    "    n = data.shape[1]\n",
    "    weights = np.zeros(n)\n",
    "    bias = 0\n",
    "    \n",
    "    for _ in range(iterations):\n",
    "        pred = predict(data, weights, bias)\n",
    "        loss = mean_squared_error(pred, labels)\n",
    "\n",
    "        if _%1000 == 0:\n",
    "            print(\"mse:\", loss)\n",
    "\n",
    "        error = (-2 * (labels - pred)) / data.shape[0]\n",
    "        grad = np.dot(data.T, error) + penalty * np.sign(weights)\n",
    "        weights -= learningRate * grad\n",
    "        bias -= learningRate * (np.sum(error) / data.shape[0])\n",
    "\n",
    "    return weights, bias\n",
    "\n",
    "weights, bias = lassoRegression(xtrain, ytrain, 1e-7, 0.1, 5000)\n",
    "\n",
    "weights_str = \", \".join([f\"{weight:.4f}\" for weight in weights])\n",
    "print(f\"coefficients: {weights_str}\")\n",
    "\n",
    "pred = predict(xtest, weights, bias)\n",
    "print(\"test mse:\", mean_squared_error(pred, ytest))"
   ]
  },
  {
   "cell_type": "code",
   "execution_count": 3,
   "id": "d7448580-673b-4a92-a190-1e34b5a10679",
   "metadata": {},
   "outputs": [
    {
     "name": "stdout",
     "output_type": "stream",
     "text": [
      "coefficients: 0.3927, 0.0151, -0.0000, 0.0000, 0.0000, -0.0031, -0.1143, -0.0993\n",
      "mse: 0.6135115198058131\n"
     ]
    }
   ],
   "source": [
    "model = Lasso(alpha=0.1)\n",
    "model.fit(xtrain, ytrain)\n",
    "pred = model.predict(xtest)\n",
    "\n",
    "weights_str = \", \".join([f\"{weight:.4f}\" for weight in model.coef_])\n",
    "print(f\"coefficients: {weights_str}\")\n",
    "\n",
    "mse = mean_squared_error(pred, ytest)\n",
    "print(\"mse:\", mse)"
   ]
  }
 ],
 "metadata": {
  "kernelspec": {
   "display_name": "Python 3 (ipykernel)",
   "language": "python",
   "name": "python3"
  },
  "language_info": {
   "codemirror_mode": {
    "name": "ipython",
    "version": 3
   },
   "file_extension": ".py",
   "mimetype": "text/x-python",
   "name": "python",
   "nbconvert_exporter": "python",
   "pygments_lexer": "ipython3",
   "version": "3.11.4"
  }
 },
 "nbformat": 4,
 "nbformat_minor": 5
}
