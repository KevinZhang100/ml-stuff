{
 "cells": [
  {
   "cell_type": "code",
   "execution_count": 1,
   "id": "8f1cf6d4-0f5f-45dd-82a8-435bdf41e37e",
   "metadata": {},
   "outputs": [],
   "source": [
    "import pandas as pd\n",
    "import numpy as np\n",
    "from sklearn.model_selection import train_test_split\n",
    "from sklearn.linear_model import Ridge\n",
    "from sklearn.metrics import mean_squared_error\n",
    "from sklearn.datasets import fetch_california_housing\n",
    "\n",
    "cali = fetch_california_housing()\n",
    "data, labels, colNames = cali.data, cali.target, cali.feature_names\n",
    "\n",
    "xtrain, xtest, ytrain, ytest = train_test_split(data, labels, test_size=0.2, random_state=42)"
   ]
  },
  {
   "cell_type": "code",
   "execution_count": 2,
   "id": "99eefc48-dfc3-4aee-b36c-ee2694549860",
   "metadata": {},
   "outputs": [
    {
     "name": "stdout",
     "output_type": "stream",
     "text": [
      "interation 0 mse: 5.629742323103131\n",
      "interation 1000 mse: 1.4520539019883156\n",
      "interation 2000 mse: 1.3331786379288588\n",
      "interation 3000 mse: 1.323227201815024\n",
      "interation 4000 mse: 1.3212815997506338\n",
      "interation 5000 mse: 1.3199348022814423\n",
      "interation 6000 mse: 1.3186427122142361\n",
      "interation 7000 mse: 1.3173649376752556\n",
      "interation 8000 mse: 1.3160980778898792\n",
      "interation 9000 mse: 1.3148414691403578\n",
      "test mse: 1.2872872651952245\n"
     ]
    }
   ],
   "source": [
    "def predict(X, ls, b):\n",
    "    return np.dot(X, ls) + b\n",
    "\n",
    "def ridgeRegression(X, y, penalty, learningRate, iterations):\n",
    "    b = 0\n",
    "    weights = np.zeros(X.shape[1])\n",
    "    \n",
    "    for _ in range(iterations):\n",
    "        pred = predict(X, weights, b)\n",
    "        if _ % 1000 == 0:\n",
    "            print(f\"interation {_} mse: {np.sum((y-pred) ** 2) / X.shape[0]}\")\n",
    "            \n",
    "        error = -2 * (y - pred) #mse as loss function\n",
    "        grad = (np.dot(X.T, error) + (2 * penalty * weights)) / X.shape[0]\n",
    "        \n",
    "        weights -= learningRate * grad\n",
    "        b -= learningRate * (np.sum(error) / X.shape[0])\n",
    "\n",
    "    return weights, b\n",
    "\n",
    "weights, b = ridgeRegression(xtrain, ytrain, 1e-5, 1e-7, 10000)\n",
    "\n",
    "pred = predict(xtest, weights, b)\n",
    "mse = mean_squared_error(pred, ytest)\n",
    "print(\"test mse:\", mse)"
   ]
  },
  {
   "cell_type": "code",
   "execution_count": 3,
   "id": "002b4a6b-2be4-47ff-a63b-9e58ec6d057c",
   "metadata": {},
   "outputs": [
    {
     "name": "stdout",
     "output_type": "stream",
     "text": [
      "test mse: 0.5558827543113786\n"
     ]
    }
   ],
   "source": [
    "libModel = Ridge(alpha=0.1)\n",
    "libModel.fit(xtrain, ytrain)\n",
    "pred = libModel.predict(xtest)\n",
    "mse = mean_squared_error(pred, ytest)\n",
    "print(\"test mse:\", mse)"
   ]
  },
  {
   "cell_type": "code",
   "execution_count": null,
   "id": "156d8557-4226-4cb0-a57b-b73a58f1b5f2",
   "metadata": {},
   "outputs": [],
   "source": []
  }
 ],
 "metadata": {
  "kernelspec": {
   "display_name": "Python 3 (ipykernel)",
   "language": "python",
   "name": "python3"
  },
  "language_info": {
   "codemirror_mode": {
    "name": "ipython",
    "version": 3
   },
   "file_extension": ".py",
   "mimetype": "text/x-python",
   "name": "python",
   "nbconvert_exporter": "python",
   "pygments_lexer": "ipython3",
   "version": "3.11.4"
  }
 },
 "nbformat": 4,
 "nbformat_minor": 5
}
