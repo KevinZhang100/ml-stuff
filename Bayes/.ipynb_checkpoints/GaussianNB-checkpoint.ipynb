{
 "cells": [
  {
   "cell_type": "code",
   "execution_count": 4,
   "id": "802b597e-772b-4814-9e86-6444cbe20ac4",
   "metadata": {},
   "outputs": [],
   "source": [
    "import pandas as pd\n",
    "import numpy as np\n",
    "from sklearn.metrics import accuracy_score\n",
    "from sklearn.naive_bayes import GaussianNB\n",
    "from sklearn.model_selection import train_test_split\n",
    "\n",
    "appleData = pd.read_csv('apple_quality.csv') #predict if apple has good or bad quality\n",
    "appleData = appleData.iloc[:1000] \n",
    "data = appleData.iloc[:, 1:appleData.shape[1]-1]\n",
    "labels = appleData['Quality'].replace({'good': 1, 'bad': 0}) #encode labels\n",
    "\n",
    "xtrain, xtest, ytrain, ytest = train_test_split(data, labels, test_size=0.2, random_state=42)"
   ]
  },
  {
   "cell_type": "code",
   "execution_count": 5,
   "id": "4ed3003f-b06d-4b92-bb66-cd3e36f1279f",
   "metadata": {},
   "outputs": [
    {
     "name": "stdout",
     "output_type": "stream",
     "text": [
      "0.765\n"
     ]
    }
   ],
   "source": [
    "def naiveBayes(data, labels):\n",
    "    samples, features = data.shape\n",
    "    classes = np.unique(labels)\n",
    "    means = {}\n",
    "    stds = {}\n",
    "    priors = {}\n",
    "\n",
    "    for c in classes:\n",
    "        mask = labels == c\n",
    "        priors[c] = len(labels[mask]) / data.shape[0]\n",
    "        means[c] = np.mean(data[mask], axis=0)\n",
    "        stds[c] = np.std(data[mask], axis=0)\n",
    "\n",
    "    return means, stds, priors, classes\n",
    "\n",
    "def pVal(mean, std, data):\n",
    "    const = 1.0 / (std * np.sqrt(2 * 3.14))\n",
    "    exponent = - (data - mean) ** 2 / (2 * std ** 2)\n",
    "    return const * np.exp(exponent)\n",
    "    \n",
    "def predict(means, stds, priors, classes, data):\n",
    "    pred = [0] * data.shape[0]\n",
    "    \n",
    "    for i in range(data.shape[0]):\n",
    "        probs = np.zeros(len(classes))\n",
    "        for c in classes:\n",
    "            likelihoods = pVal(means[c], stds[c], np.array(data.iloc[i]))\n",
    "            probs[c] = np.prod(likelihoods) * priors[c]\n",
    "            \n",
    "        pred[i] = np.argmax(probs)\n",
    "        \n",
    "        \n",
    "    return pred\n",
    "    \n",
    "means, stds, priors, classes = naiveBayes(xtrain, ytrain)\n",
    "pred = predict(means, stds, priors, classes, xtest)\n",
    "acc = accuracy_score(pred, ytest)\n",
    "print(acc)"
   ]
  },
  {
   "cell_type": "code",
   "execution_count": 6,
   "id": "b16dea96-cbb3-4d05-97f6-96580e0787f9",
   "metadata": {},
   "outputs": [
    {
     "name": "stdout",
     "output_type": "stream",
     "text": [
      "0.765\n"
     ]
    }
   ],
   "source": [
    "model = GaussianNB()\n",
    "model.fit(xtrain, ytrain)\n",
    "pred = model.predict(xtest)\n",
    "acc = accuracy_score(pred, ytest)\n",
    "print(acc)"
   ]
  }
 ],
 "metadata": {
  "kernelspec": {
   "display_name": "Python 3 (ipykernel)",
   "language": "python",
   "name": "python3"
  },
  "language_info": {
   "codemirror_mode": {
    "name": "ipython",
    "version": 3
   },
   "file_extension": ".py",
   "mimetype": "text/x-python",
   "name": "python",
   "nbconvert_exporter": "python",
   "pygments_lexer": "ipython3",
   "version": "3.11.4"
  }
 },
 "nbformat": 4,
 "nbformat_minor": 5
}
