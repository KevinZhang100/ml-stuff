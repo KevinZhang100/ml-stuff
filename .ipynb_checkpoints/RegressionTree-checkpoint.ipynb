{
 "cells": [
  {
   "cell_type": "code",
   "execution_count": 23,
   "id": "eefa7771-6f65-48fe-b68a-fa17217c9456",
   "metadata": {},
   "outputs": [],
   "source": [
    "import pandas as pd\n",
    "import numpy as np\n",
    "from sklearn.tree import DecisionTreeRegressor\n",
    "from sklearn.model_selection import train_test_split\n",
    "from sklearn.metrics import mean_squared_error\n",
    "from sklearn.datasets import fetch_california_housing\n",
    "\n",
    "cali = fetch_california_housing()\n",
    "data, labels, colNames = cali.data, cali.target, cali.feature_names\n",
    "data = data[:1000]\n",
    "labels = labels[:1000]\n",
    "data = pd.DataFrame(data, columns=colNames)\n",
    "labels = pd.DataFrame(labels)\n",
    "\n",
    "xtrain, xtest, ytrain, ytest = train_test_split(data, labels, test_size=0.2, random_state=42)"
   ]
  },
  {
   "cell_type": "code",
   "execution_count": 29,
   "id": "cabc5ce7-599d-42ab-bf60-d503e067eb59",
   "metadata": {},
   "outputs": [],
   "source": [
    "#finds the best split in the current set of data\n",
    "def bestSplit(data: pd.DataFrame, labels: pd.Series) -> (str, float):\n",
    "    colName, splitVal, minMSE = '', 0, float('inf')\n",
    "    \n",
    "    for col in data.columns:\n",
    "        uniqueVals = np.sort(data[col].unique())\n",
    "        splits = (uniqueVals[1:] + uniqueVals[:-1]) / 2\n",
    "        \n",
    "        for split in splits:\n",
    "            #split into left and right group\n",
    "            mask = data[col] <= split\n",
    "            left = labels[mask]\n",
    "            right = labels[~mask]\n",
    "\n",
    "            #find mean for right and left side\n",
    "            leftMean = float(left.mean().iloc[0])\n",
    "            rightMean = float(right.mean().iloc[0])\n",
    "\n",
    "            #sse = summation of (y - group mean)^2 for each group\n",
    "            sse = ((left - leftMean) ** 2).sum() + ((right - rightMean) ** 2).sum()\n",
    "            # mse = sse / (n-k)\n",
    "            mse = sse / (len(labels) - 2)\n",
    "            mse = float(mse.iloc[0])\n",
    "            \n",
    "            if mse < minMSE:\n",
    "                colName = col\n",
    "                splitVal = split\n",
    "                minMSE = mse\n",
    "            \n",
    "    return (colName, splitVal)\n",
    "\n",
    "# recursively build decision tree\n",
    "def buildTree(data: pd.DataFrame, labels: pd.Series, min_split: int):\n",
    "    if len(labels) < min_split:\n",
    "        return {'isLeaf': True,\n",
    "                'pred': labels.mean()} #return mean of the labels in the leaf\n",
    "\n",
    "    (col, split) = bestSplit(data, labels)\n",
    "    leftData = data[data[col] <= split]\n",
    "    leftLabels = labels[data[col] <= split]\n",
    "    \n",
    "    rightData = data[data[col] > split]\n",
    "    rightLabels = labels[data[col] > split]\n",
    "\n",
    "    left = buildTree(leftData, leftLabels, min_split)\n",
    "    right = buildTree(rightData, rightLabels, min_split)\n",
    "\n",
    "    return {'column': col,\n",
    "            'split': split,\n",
    "            'left': left,\n",
    "            'right': right, \n",
    "            'isLeaf': False}\n",
    "\n",
    "tree = buildTree(xtrain, ytrain, 50)"
   ]
  },
  {
   "cell_type": "code",
   "execution_count": 35,
   "id": "a265f22b-cd87-4260-a164-703f8463a3d2",
   "metadata": {},
   "outputs": [
    {
     "name": "stderr",
     "output_type": "stream",
     "text": [
      "C:\\Users\\Kevin\\AppData\\Local\\Programs\\Python\\Python311\\Lib\\site-packages\\sklearn\\utils\\_array_api.py:380: FutureWarning: Calling float on a single element Series is deprecated and will raise a TypeError in the future. Use float(ser.iloc[0]) instead\n",
      "  array = numpy.asarray(array, order=order, dtype=dtype)\n"
     ]
    },
    {
     "name": "stdout",
     "output_type": "stream",
     "text": [
      "mse test: 0.20979883975793684\n",
      "mse train: 0.16709217642822682\n"
     ]
    },
    {
     "name": "stderr",
     "output_type": "stream",
     "text": [
      "C:\\Users\\Kevin\\AppData\\Local\\Programs\\Python\\Python311\\Lib\\site-packages\\sklearn\\utils\\_array_api.py:380: FutureWarning: Calling float on a single element Series is deprecated and will raise a TypeError in the future. Use float(ser.iloc[0]) instead\n",
      "  array = numpy.asarray(array, order=order, dtype=dtype)\n"
     ]
    }
   ],
   "source": [
    "def predict(tree, data: pd.DataFrame):\n",
    "    if tree['isLeaf']:\n",
    "        return pd.Series([tree['pred']] * len(data), index=data.index) \n",
    "    \n",
    "    col = tree['column']\n",
    "    split = tree['split']\n",
    "    \n",
    "    left_data = data[data[col] <= split]\n",
    "    right_data = data[data[col] > split]\n",
    "    \n",
    "    pred = pd.Series(index=data.index)\n",
    "\n",
    "    pred[data[col] <= split] = predict(tree['left'], left_data)\n",
    "    pred[data[col] > split] = predict(tree['right'], right_data)\n",
    "\n",
    "    return pred\n",
    "\n",
    "\n",
    "pred = np.array(predict(tree, xtest))\n",
    "mse = mean_squared_error(pred, ytest)\n",
    "print(\"mse test:\", mse)\n",
    "\n",
    "pred = np.array(predict(tree, xtrain))\n",
    "mse = mean_squared_error(pred, ytrain)\n",
    "print(\"mse train:\", mse)"
   ]
  },
  {
   "cell_type": "code",
   "execution_count": 36,
   "id": "19339e1b-db95-4565-8e34-801daacc961e",
   "metadata": {},
   "outputs": [
    {
     "name": "stdout",
     "output_type": "stream",
     "text": [
      "mse test: 0.2053516029023301\n",
      "mse train: 0.19983847626648782\n"
     ]
    }
   ],
   "source": [
    "#tests results with scikit-learn library\n",
    "libraryTree = DecisionTreeRegressor(criterion=\"squared_error\",min_samples_split=70)\n",
    "libraryTree.fit(xtrain, ytrain)\n",
    "\n",
    "pred = libraryTree.predict(xtest)\n",
    "mse = mean_squared_error(pred, ytest)\n",
    "print(\"mse test:\", mse)\n",
    "pred = libraryTree.predict(xtrain)\n",
    "mse = mean_squared_error(pred, ytrain)\n",
    "print(\"mse train:\", mse)"
   ]
  }
 ],
 "metadata": {
  "kernelspec": {
   "display_name": "Python 3 (ipykernel)",
   "language": "python",
   "name": "python3"
  },
  "language_info": {
   "codemirror_mode": {
    "name": "ipython",
    "version": 3
   },
   "file_extension": ".py",
   "mimetype": "text/x-python",
   "name": "python",
   "nbconvert_exporter": "python",
   "pygments_lexer": "ipython3",
   "version": "3.11.4"
  }
 },
 "nbformat": 4,
 "nbformat_minor": 5
}
