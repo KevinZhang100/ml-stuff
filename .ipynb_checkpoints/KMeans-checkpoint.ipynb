{
 "cells": [
  {
   "cell_type": "code",
   "execution_count": 3,
   "id": "9f2d3197-c842-469f-aede-7b3d26f61a2d",
   "metadata": {},
   "outputs": [],
   "source": [
    "from sklearn.cluster import KMeans\n",
    "from sklearn.model_selection import train_test_split\n",
    "import pandas as pd"
   ]
  },
  {
   "cell_type": "code",
   "execution_count": 4,
   "id": "1246021d-158f-4b15-9579-6b04c60dc707",
   "metadata": {},
   "outputs": [],
   "source": [
    "appleData = pd.read_csv('apple_quality.csv') #predict if apple has good or bad quality\n",
    "appleData = appleData.iloc[:1000] #have to take a sample because my decision tree is too slow :(\n",
    "data = appleData.iloc[:, 1:appleData.shape[1]-1]\n",
    "labels = appleData['Quality'].replace({'good': 1, 'bad':0}) #encode labels\n",
    "\n",
    "xtrain, xtest, ytrain, ytest = train_test_split(data, labels, test_size=0.2, random_state=42)"
   ]
  },
  {
   "cell_type": "code",
   "execution_count": null,
   "id": "32d3ca04-1484-42ff-a323-482883e3999b",
   "metadata": {},
   "outputs": [],
   "source": [
    "kmean = KMeans(n_clusters=2)\n",
    "kmean.fit(xtrain)\n"
   ]
  }
 ],
 "metadata": {
  "kernelspec": {
   "display_name": "Python 3 (ipykernel)",
   "language": "python",
   "name": "python3"
  },
  "language_info": {
   "codemirror_mode": {
    "name": "ipython",
    "version": 3
   },
   "file_extension": ".py",
   "mimetype": "text/x-python",
   "name": "python",
   "nbconvert_exporter": "python",
   "pygments_lexer": "ipython3",
   "version": "3.11.4"
  }
 },
 "nbformat": 4,
 "nbformat_minor": 5
}
